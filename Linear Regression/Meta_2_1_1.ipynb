{
  "nbformat": 4,
  "nbformat_minor": 0,
  "metadata": {
    "colab": {
      "provenance": []
    },
    "kernelspec": {
      "name": "python3",
      "display_name": "Python 3"
    },
    "language_info": {
      "name": "python"
    }
  },
  "cells": [
    {
      "cell_type": "code",
      "execution_count": 1,
      "metadata": {
        "id": "PEAukTGc8bG5"
      },
      "outputs": [],
      "source": [
        "import numpy as np"
      ]
    },
    {
      "cell_type": "code",
      "source": [
        "archivo_datos = 'slump_test.dat'"
      ],
      "metadata": {
        "id": "8vwtA9cC8mkm"
      },
      "execution_count": 2,
      "outputs": []
    },
    {
      "cell_type": "code",
      "source": [
        "datos = np.loadtxt(archivo_datos, delimiter=',')\n",
        "\n",
        "x = datos[:, 1:8]\n",
        "y = datos[:, 8:12]"
      ],
      "metadata": {
        "id": "-mMUu1YG8qPT"
      },
      "execution_count": 3,
      "outputs": []
    },
    {
      "cell_type": "code",
      "source": [
        "q,_ = np.shape(x)\n",
        "_,m = np.shape(y)"
      ],
      "metadata": {
        "id": "a3y9Rxkl8vNe"
      },
      "execution_count": 4,
      "outputs": []
    },
    {
      "cell_type": "code",
      "source": [
        "A = np.c_[x,np.ones((q,1))]"
      ],
      "metadata": {
        "id": "rG7ljujV8yht"
      },
      "execution_count": 5,
      "outputs": []
    },
    {
      "cell_type": "code",
      "source": [
        "# Optimizacion\n",
        "ATA = A.T @ A\n",
        "b = A.T @ y\n",
        "theta = np.linalg.pinv(ATA) @ b"
      ],
      "metadata": {
        "id": "x4Nt6d_4800m"
      },
      "execution_count": 6,
      "outputs": []
    },
    {
      "cell_type": "code",
      "source": [
        "# Evalua la hipotesis\n",
        "yh = A @ theta"
      ],
      "metadata": {
        "id": "wn0lLMJk82el"
      },
      "execution_count": 7,
      "outputs": []
    },
    {
      "cell_type": "code",
      "source": [
        "# Evalua metricas\n",
        "e = y-yh\n",
        "ev = e.flatten(order = 'F')\n",
        "# suma de los cuadrados de los errores\n",
        "SSE = ev.T @ ev\n",
        "# error cuadrado medio\n",
        "MSE = SSE/(q*m)\n",
        "RMSE = np.math.sqrt(MSE)"
      ],
      "metadata": {
        "id": "daWr0ZeU84aA"
      },
      "execution_count": 8,
      "outputs": []
    },
    {
      "cell_type": "code",
      "source": [
        "# Coeficiente de determinación (𝑅2)\n",
        "# media\n",
        "yb = np.mean(y)\n",
        "e = y-yb\n",
        "ev = e.flatten(order = 'F')\n",
        "# suma de los cuadrados totales\n",
        "SST = ev.T @ ev\n",
        "# coeficiente de la determinacion\n",
        "R2 = 1-SSE/SST"
      ],
      "metadata": {
        "id": "Lq0yXqr889W8"
      },
      "execution_count": 9,
      "outputs": []
    },
    {
      "cell_type": "code",
      "source": [
        "print(\"SSE   = \",SSE)\n",
        "print(\"MSE   = \",MSE)\n",
        "print(\"RMSE  = \",RMSE)\n",
        "print(\"R2    = \",R2)\n",
        "print(\"\\nTHETA = \",theta)"
      ],
      "metadata": {
        "colab": {
          "base_uri": "https://localhost:8080/"
        },
        "id": "eRh345VO9IPq",
        "outputId": "b26170c9-9697-402b-99b7-acc9b15ac05b"
      },
      "execution_count": 10,
      "outputs": [
        {
          "output_type": "stream",
          "name": "stdout",
          "text": [
            "SSE   =  21603.309012079484\n",
            "MSE   =  69.91362139831548\n",
            "RMSE  =  8.361436563074284\n",
            "R2    =  0.777740199026264\n",
            "\n",
            "THETA =  [[ 1.02157275e-02  5.36430924e-02  6.14132236e-02]\n",
            " [-1.29659581e-02 -5.69040345e-03 -2.97075235e-02]\n",
            " [ 6.17558878e-03  6.11509526e-02  5.05261143e-02]\n",
            " [ 2.58982296e-01  7.31798708e-01 -2.32695048e-01]\n",
            " [-1.83954019e-01  2.98328553e-01  1.03149914e-01]\n",
            " [ 2.97369173e-02  7.36601674e-02 -5.56216339e-02]\n",
            " [ 3.85840044e-02  9.40170896e-02 -3.90828685e-02]\n",
            " [-8.85250367e+01 -2.52874673e+02  1.39781500e+02]]\n"
          ]
        }
      ]
    }
  ]
}